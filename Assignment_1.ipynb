{
 "cells": [
  {
   "cell_type": "code",
   "execution_count": 13,
   "metadata": {},
   "outputs": [],
   "source": [
    "import numpy as np"
   ]
  },
  {
   "cell_type": "code",
   "execution_count": 77,
   "metadata": {},
   "outputs": [
    {
     "data": {
      "text/plain": [
       "array([[ 1, 10, 24, 10, 16,  9,  5, 20,  4, 29],\n",
       "       [ 8, 11, 21, 25,  8,  7, 15, 10, 21, 19],\n",
       "       [24,  8,  8, 16, 13,  1, 21, 11, 13, 18]])"
      ]
     },
     "execution_count": 77,
     "metadata": {},
     "output_type": "execute_result"
    }
   ],
   "source": [
    "# Creating an array\n",
    "arr = np.random.randint(1, 31, (3, 10))\n",
    "arr"
   ]
  },
  {
   "cell_type": "code",
   "execution_count": 78,
   "metadata": {},
   "outputs": [
    {
     "data": {
      "text/plain": [
       "array([[ 1, 10, 24, 10, 16,  9],\n",
       "       [ 5, 20,  4, 29,  8, 11],\n",
       "       [21, 25,  8,  7, 15, 10],\n",
       "       [21, 19, 24,  8,  8, 16],\n",
       "       [13,  1, 21, 11, 13, 18]])"
      ]
     },
     "execution_count": 78,
     "metadata": {},
     "output_type": "execute_result"
    }
   ],
   "source": [
    "# 1. Reshaping array\n",
    "new_arr = arr.reshape(5, 6)\n",
    "new_arr"
   ]
  },
  {
   "cell_type": "code",
   "execution_count": 79,
   "metadata": {},
   "outputs": [
    {
     "data": {
      "text/plain": [
       "array([[ 2, 20, 48, 20, 32, 18],\n",
       "       [10, 40,  8, 58, 16, 22],\n",
       "       [42, 50, 16, 14, 30, 20],\n",
       "       [42, 38, 48, 16, 16, 32],\n",
       "       [26,  2, 42, 22, 26, 36]])"
      ]
     },
     "execution_count": 79,
     "metadata": {},
     "output_type": "execute_result"
    }
   ],
   "source": [
    "# 2. Addition\n",
    "new_arr + new_arr"
   ]
  },
  {
   "cell_type": "code",
   "execution_count": 80,
   "metadata": {},
   "outputs": [
    {
     "data": {
      "text/plain": [
       "array([[  1, 100, 576, 100, 256,  81],\n",
       "       [ 25, 400,  16, 841,  64, 121],\n",
       "       [441, 625,  64,  49, 225, 100],\n",
       "       [441, 361, 576,  64,  64, 256],\n",
       "       [169,   1, 441, 121, 169, 324]])"
      ]
     },
     "execution_count": 80,
     "metadata": {},
     "output_type": "execute_result"
    }
   ],
   "source": [
    "# 3. Multiplication\n",
    "new_arr * new_arr"
   ]
  },
  {
   "cell_type": "code",
   "execution_count": 81,
   "metadata": {},
   "outputs": [
    {
     "data": {
      "text/plain": [
       "array([[1., 1., 1., 1., 1., 1.],\n",
       "       [1., 1., 1., 1., 1., 1.],\n",
       "       [1., 1., 1., 1., 1., 1.],\n",
       "       [1., 1., 1., 1., 1., 1.],\n",
       "       [1., 1., 1., 1., 1., 1.]])"
      ]
     },
     "execution_count": 81,
     "metadata": {},
     "output_type": "execute_result"
    }
   ],
   "source": [
    "# 4. division \n",
    "new_arr / new_arr"
   ]
  },
  {
   "cell_type": "code",
   "execution_count": 82,
   "metadata": {},
   "outputs": [
    {
     "data": {
      "text/plain": [
       "array([[0, 0, 0, 0, 0, 0],\n",
       "       [0, 0, 0, 0, 0, 0],\n",
       "       [0, 0, 0, 0, 0, 0],\n",
       "       [0, 0, 0, 0, 0, 0],\n",
       "       [0, 0, 0, 0, 0, 0]])"
      ]
     },
     "execution_count": 82,
     "metadata": {},
     "output_type": "execute_result"
    }
   ],
   "source": [
    "# 5. subraction\n",
    "new_arr - new_arr"
   ]
  },
  {
   "cell_type": "code",
   "execution_count": 83,
   "metadata": {},
   "outputs": [
    {
     "data": {
      "text/plain": [
       "array([[ True,  True,  True,  True,  True,  True],\n",
       "       [ True,  True,  True,  True,  True,  True],\n",
       "       [ True,  True,  True,  True,  True,  True],\n",
       "       [ True,  True,  True,  True,  True,  True],\n",
       "       [ True,  True,  True,  True,  True,  True]])"
      ]
     },
     "execution_count": 83,
     "metadata": {},
     "output_type": "execute_result"
    }
   ],
   "source": [
    "# 6. greater than or equal to\n",
    "new_arr >= new_arr"
   ]
  },
  {
   "cell_type": "code",
   "execution_count": 84,
   "metadata": {},
   "outputs": [
    {
     "data": {
      "text/plain": [
       "array([[ True,  True,  True,  True,  True,  True,  True,  True,  True,\n",
       "         True],\n",
       "       [ True,  True,  True,  True,  True,  True,  True,  True,  True,\n",
       "         True],\n",
       "       [ True,  True,  True,  True,  True,  True,  True,  True,  True,\n",
       "         True]])"
      ]
     },
     "execution_count": 84,
     "metadata": {},
     "output_type": "execute_result"
    }
   ],
   "source": [
    "# 7. greater than\n",
    "arr > (arr/1.3)"
   ]
  },
  {
   "cell_type": "code",
   "execution_count": 85,
   "metadata": {},
   "outputs": [
    {
     "data": {
      "text/plain": [
       "array([[ 0.84147098, -0.54402111, -0.90557836, -0.54402111, -0.28790332,\n",
       "         0.41211849],\n",
       "       [-0.95892427,  0.91294525, -0.7568025 , -0.66363388,  0.98935825,\n",
       "        -0.99999021],\n",
       "       [ 0.83665564, -0.13235175,  0.98935825,  0.6569866 ,  0.65028784,\n",
       "        -0.54402111],\n",
       "       [ 0.83665564,  0.14987721, -0.90557836,  0.98935825,  0.98935825,\n",
       "        -0.28790332],\n",
       "       [ 0.42016704,  0.84147098,  0.83665564, -0.99999021,  0.42016704,\n",
       "        -0.75098725]])"
      ]
     },
     "execution_count": 85,
     "metadata": {},
     "output_type": "execute_result"
    }
   ],
   "source": [
    "# 8. sine\n",
    "np.sin(new_arr)"
   ]
  },
  {
   "cell_type": "code",
   "execution_count": 86,
   "metadata": {},
   "outputs": [
    {
     "data": {
      "text/plain": [
       "array([[ 0.54030231, -0.83907153,  0.42417901, -0.83907153, -0.95765948,\n",
       "        -0.91113026],\n",
       "       [ 0.28366219,  0.40808206, -0.65364362, -0.74805753, -0.14550003,\n",
       "         0.0044257 ],\n",
       "       [-0.54772926,  0.99120281, -0.14550003,  0.75390225, -0.75968791,\n",
       "        -0.83907153],\n",
       "       [-0.54772926,  0.98870462,  0.42417901, -0.14550003, -0.14550003,\n",
       "        -0.95765948],\n",
       "       [ 0.90744678,  0.54030231, -0.54772926,  0.0044257 ,  0.90744678,\n",
       "         0.66031671]])"
      ]
     },
     "execution_count": 86,
     "metadata": {},
     "output_type": "execute_result"
    }
   ],
   "source": [
    "# 9. Cosine\n",
    "np.cos(new_arr)"
   ]
  },
  {
   "cell_type": "code",
   "execution_count": 87,
   "metadata": {},
   "outputs": [
    {
     "data": {
      "text/plain": [
       "array([[0.        , 2.30258509, 3.17805383, 2.30258509, 2.77258872,\n",
       "        2.19722458],\n",
       "       [1.60943791, 2.99573227, 1.38629436, 3.36729583, 2.07944154,\n",
       "        2.39789527],\n",
       "       [3.04452244, 3.21887582, 2.07944154, 1.94591015, 2.7080502 ,\n",
       "        2.30258509],\n",
       "       [3.04452244, 2.94443898, 3.17805383, 2.07944154, 2.07944154,\n",
       "        2.77258872],\n",
       "       [2.56494936, 0.        , 3.04452244, 2.39789527, 2.56494936,\n",
       "        2.89037176]])"
      ]
     },
     "execution_count": 87,
     "metadata": {},
     "output_type": "execute_result"
    }
   ],
   "source": [
    "# 10. Log\n",
    "np.log(new_arr)"
   ]
  },
  {
   "cell_type": "code",
   "execution_count": 88,
   "metadata": {},
   "outputs": [
    {
     "data": {
      "text/plain": [
       "0"
      ]
     },
     "execution_count": 88,
     "metadata": {},
     "output_type": "execute_result"
    }
   ],
   "source": [
    "# 11. Position of min element\n",
    "np.argmin(new_arr)"
   ]
  },
  {
   "cell_type": "code",
   "execution_count": 89,
   "metadata": {},
   "outputs": [
    {
     "data": {
      "text/plain": [
       "9"
      ]
     },
     "execution_count": 89,
     "metadata": {},
     "output_type": "execute_result"
    }
   ],
   "source": [
    "# 12. Position of max element\n",
    "np.argmax(new_arr)"
   ]
  },
  {
   "cell_type": "code",
   "execution_count": 90,
   "metadata": {},
   "outputs": [
    {
     "data": {
      "text/plain": [
       "29"
      ]
     },
     "execution_count": 90,
     "metadata": {},
     "output_type": "execute_result"
    }
   ],
   "source": [
    "# 13. Max element in the array\n",
    "np.max(new_arr)"
   ]
  },
  {
   "cell_type": "code",
   "execution_count": 91,
   "metadata": {},
   "outputs": [
    {
     "data": {
      "text/plain": [
       "1"
      ]
     },
     "execution_count": 91,
     "metadata": {},
     "output_type": "execute_result"
    }
   ],
   "source": [
    "# 14. Minimum element in the array\n",
    "np.min(new_arr)"
   ]
  },
  {
   "cell_type": "code",
   "execution_count": 92,
   "metadata": {},
   "outputs": [
    {
     "data": {
      "text/plain": [
       "406"
      ]
     },
     "execution_count": 92,
     "metadata": {},
     "output_type": "execute_result"
    }
   ],
   "source": [
    "# 15. Sum of all array elements\n",
    "np.sum(new_arr)"
   ]
  },
  {
   "cell_type": "code",
   "execution_count": 93,
   "metadata": {},
   "outputs": [
    {
     "data": {
      "text/plain": [
       "7.2513600256932635"
      ]
     },
     "execution_count": 93,
     "metadata": {},
     "output_type": "execute_result"
    }
   ],
   "source": [
    "# 16. standard deviation \n",
    "np.std(new_arr)"
   ]
  },
  {
   "cell_type": "code",
   "execution_count": 94,
   "metadata": {},
   "outputs": [
    {
     "data": {
      "text/plain": [
       "array([[1.        , 3.16227766, 4.89897949, 3.16227766, 4.        ,\n",
       "        3.        ],\n",
       "       [2.23606798, 4.47213595, 2.        , 5.38516481, 2.82842712,\n",
       "        3.31662479],\n",
       "       [4.58257569, 5.        , 2.82842712, 2.64575131, 3.87298335,\n",
       "        3.16227766],\n",
       "       [4.58257569, 4.35889894, 4.89897949, 2.82842712, 2.82842712,\n",
       "        4.        ],\n",
       "       [3.60555128, 1.        , 4.58257569, 3.31662479, 3.60555128,\n",
       "        4.24264069]])"
      ]
     },
     "execution_count": 94,
     "metadata": {},
     "output_type": "execute_result"
    }
   ],
   "source": [
    "# 17. square root\n",
    "np.sqrt(new_arr)"
   ]
  },
  {
   "cell_type": "code",
   "execution_count": 95,
   "metadata": {},
   "outputs": [
    {
     "data": {
      "text/plain": [
       "(5, 6)"
      ]
     },
     "execution_count": 95,
     "metadata": {},
     "output_type": "execute_result"
    }
   ],
   "source": [
    "# 18. shape of the array\n",
    "new_arr.shape"
   ]
  },
  {
   "cell_type": "code",
   "execution_count": 96,
   "metadata": {},
   "outputs": [
    {
     "data": {
      "text/plain": [
       "array([[25,  8,  7, 15, 10],\n",
       "       [19, 24,  8,  8, 16],\n",
       "       [ 1, 21, 11, 13, 18]])"
      ]
     },
     "execution_count": 96,
     "metadata": {},
     "output_type": "execute_result"
    }
   ],
   "source": [
    "# 19. Slicing\n",
    "new_arr[2:, 1:]"
   ]
  },
  {
   "cell_type": "code",
   "execution_count": 98,
   "metadata": {},
   "outputs": [
    {
     "data": {
      "text/plain": [
       "array([[ 1, 10, 24, 10, 16,  9],\n",
       "       [ 5, 20,  4, 29,  8, 11],\n",
       "       [21, 25,  8,  7, 15, 10],\n",
       "       [21, 19, 24,  8, 99, 99],\n",
       "       [13,  1, 21, 11, 99, 99]])"
      ]
     },
     "execution_count": 98,
     "metadata": {},
     "output_type": "execute_result"
    }
   ],
   "source": [
    "# 20. broadcasting\n",
    "new_arr[3:, 4:] = 99\n",
    "new_arr"
   ]
  }
 ],
 "metadata": {
  "kernelspec": {
   "display_name": "Python 3",
   "language": "python",
   "name": "python3"
  },
  "language_info": {
   "codemirror_mode": {
    "name": "ipython",
    "version": 3
   },
   "file_extension": ".py",
   "mimetype": "text/x-python",
   "name": "python",
   "nbconvert_exporter": "python",
   "pygments_lexer": "ipython3",
   "version": "3.8.3"
  }
 },
 "nbformat": 4,
 "nbformat_minor": 4
}
